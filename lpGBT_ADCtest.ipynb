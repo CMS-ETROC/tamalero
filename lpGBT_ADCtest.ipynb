{
 "cells": [
  {
   "cell_type": "code",
   "execution_count": 1,
   "id": "f1222d2f",
   "metadata": {},
   "outputs": [
    {
     "name": "stdout",
     "output_type": "stream",
     "text": [
      "IPBus address: chtcp-2.0://localhost:10203?target=192.168.0.10:50001\n",
      "KCU firmware version: 0.0.0\n",
      "Successfully connected to KCU.\n",
      "LPGBT Link Status from KCU:\n",
      "\u001b[92m0x2021  r       READOUT_BOARD_0.LPGBT.DOWNLINK.READY              0x00000001\u001b[0m\n",
      "\u001b[92m0x2001  r       READOUT_BOARD_0.LPGBT.UPLINK_0.READY              0x00000001\u001b[0m\n",
      "\u001b[92m0x2001  r       READOUT_BOARD_0.LPGBT.UPLINK_0.FEC_ERR_CNT        0x00000000\u001b[0m\n",
      "Firmware version: 2025/07/01 27:20:20 v0.0.0 sha=aa38a3c\n",
      "\u001b[92m0x100B  r       FW_INFO.CLK125_FREQ                               0x07735940\u001b[0m\n",
      "\u001b[92m0x1008  r       FW_INFO.CLK320_FREQ                               0x131C88B2\u001b[0m\n",
      "\u001b[92m0x1007  r       FW_INFO.CLK_40_FREQ                               0x02639115\u001b[0m\n",
      "\u001b[92m0x1009  r       FW_INFO.REFCLK_FREQ                               0x131C88B2\u001b[0m\n",
      "\u001b[92m0x1018  r       FW_INFO.RXCLK0_FREQ                               0x131C88B2\u001b[0m\n",
      "\u001b[92m0x100E  r       FW_INFO.TXCLK0_FREQ                               0x131C88B2\u001b[0m\n",
      "\u001b[92m0x100F  r       FW_INFO.TXCLK1_FREQ                               0x131C88B2\u001b[0m\n",
      "KCU Loopback test PASSED: Wrote 0xABCD1234, Read 0xABCD1234\n"
     ]
    }
   ],
   "source": [
    "from tamalero.utils import get_kcu\n",
    "kcu_ip = \"192.168.0.10\" ## If your KCU ip is diff, modify it.\n",
    "\n",
    "kcu = get_kcu(\n",
    "    kcu_ip,\n",
    "    control_hub=True,\n",
    "    host='localhost',\n",
    "    verbose=False\n",
    ")\n",
    "print(\"Successfully connected to KCU.\")\n",
    "\n",
    "##Check the KCU's status and firmware\n",
    "kcu.status() # Prints LpGBT link statuses from KCU \n",
    "fw_ver = kcu.get_firmware_version(verbose=True) #\n",
    "kcu.check_clock_frequencies(verbose=True) # Verifies KCU clock stability\n",
    "\n",
    "##Perform a simple loopback register test to confirm communication\n",
    "loopback_val = 0xABCD1234\n",
    "kcu.write_node(\"LOOPBACK.LOOPBACK\", loopback_val) #\n",
    "read_val = kcu.read_node(\"LOOPBACK.LOOPBACK\").value()\n",
    "if read_val == loopback_val:\n",
    "    print(f\"KCU Loopback test PASSED: Wrote 0x{loopback_val:X}, Read 0x{read_val:X}\")\n",
    "else:\n",
    "    print(f\"KCU Loopback test FAILED: Wrote 0x{loopback_val:X}, Read 0x{read_val:X}\")"
   ]
  },
  {
   "cell_type": "code",
   "execution_count": null,
   "id": "5f931950",
   "metadata": {},
   "outputs": [
    {
     "name": "stdout",
     "output_type": "stream",
     "text": [
      "0x1d7 readback value is 0xae\n",
      "lpGBT version found True\n",
      " > lpGBT v2 detected\n",
      " > VTRx+ version detected: production\n",
      " > Found trigger lpGBT, will configure it now.\n",
      " > Enabling VTRX channel for trigger lpGBT\n",
      "Trigger link does not have a stable connection. Ignoring.\n"
     ]
    }
   ],
   "source": [
    "from tamalero.ReadoutBoard import ReadoutBoard\n",
    "\n",
    "rb = ReadoutBoard(\n",
    "    rb=0,\n",
    "    kcu=kcu,\n",
    "    config=\"default\", \n",
    "    trigger=True,     \n",
    "    verbose=False,\n",
    "    allow_bad_links=True\n",
    ")\n",
    "\n",
    "# print(f\"Readout Board version detected: {rb.ver}\")\n",
    "# print(\"\\nChecking DAQ LpGBT base configuration:\")\n",
    "# rb.DAQ_LPGBT.read_base_config() # check lpgbt register matched lpgbt.yaml or not\n",
    "\n",
    "# Read on-board temperatures\n",
    "# print(\"\\nReading temperatures:\")\n",
    "# rb.read_temp(verbose=True) #\n",
    "\n",
    "# print(\"\\nReading DAQ LpGBT ADCs:\")\n",
    "# try:\n",
    "#     rb.DAQ_LPGBT.read_adcs(check=True, strict_limits=True) #\n",
    "# except ValueError as e:\n",
    "#     print(f\"LpGBT ADC check issue: {e}\")\n",
    "\n",
    "# print(f\"\\nDAQ LpGBT Link Good: {rb.DAQ_LPGBT.link_status()}\") \n",
    "# fec_errors = rb.get_FEC_error_count() # Reads KCU registers defined in READOUT_BOARD.xml\n",
    "# print(f\"FEC Errors: DAQ LpGBT = {fec_errors.get('DAQ', 'N/A')}\")\n",
    "\n",
    "\n",
    "rb.TRIG_LPGBT.calibrate_adc()\n",
    "# rb.TRIG_LPGBT.apply_adc_calibration = lambda val : val\n",
    "rb.DAQ_LPGBT.read_adcs(check=True, strict_limits=True) #\n",
    "# rb.TRIG_LPGBT.read_adcs(check = True, strict_limits=False)\n",
    "# rb.connect_modules(verbose = True)\n"
   ]
  },
  {
   "cell_type": "code",
   "execution_count": 18,
   "id": "cf7c430b",
   "metadata": {},
   "outputs": [
    {
     "name": "stdout",
     "output_type": "stream",
     "text": [
      "Recalibrating\n",
      "1.87890625\n",
      "Calibrated Trigger ADC. Gain: 1.878906 / Offset: 510\n",
      "Chip BAAEA82A\n",
      "Calibration data saved to lpgbt_adc_calibrations.json\n",
      "1.87890625 510\n",
      "0.45454545454545453 0.45454545454545453\n",
      "0.45454545454545453 0.42521994134897356\n",
      "0.4398826979472141 0.4105571847507331\n",
      "0.45454545454545453 0.4398826979472141\n"
     ]
    }
   ],
   "source": [
    "# rb.TRIG_LPGBT.read_differential_adc_raw\n",
    "gain, offset = rb.TRIG_LPGBT.calibrate_adc(recalibrate=True)\n",
    "print(gain, offset)\n",
    "for channel in [0x0, 0x2, 0x4, 0x6]:\n",
    "    # print(rb.TRIG_LPGBT.read_adc_raw_diff(channel))\n",
    "    print(((rb.TRIG_LPGBT.read_adc_raw_diff(channel)-offset)/1023*1.5/0.1), (rb.TRIG_LPGBT.read_adc_raw(channel)-rb.TRIG_LPGBT.read_adc_raw(channel+1))/1023*1.5/0.1)\n",
    "    # print(((rb.TRIG_LPGBT.read_adc_raw(channel))/1023*1.5), ((rb.TRIG_LPGBT.read_adc_raw(channel+1))/1023*1.5))\n"
   ]
  },
  {
   "cell_type": "code",
   "execution_count": 13,
   "id": "8edc61ac",
   "metadata": {},
   "outputs": [
    {
     "name": "stdout",
     "output_type": "stream",
     "text": [
      "┌─────────────────┬───────┬─────────────────┬───────────────────┬────────────────────┬──────────────────┬─────────────────────┬──────────┬──────────────────────────────────────────────────────┐\n",
      "│ Register        │ Pin   │   Reading (raw) │   Reading (calib) │   Voltage (direct) │   Voltage (conv) │   current_value (A) │ Status   │ Comment                                              │\n",
      "├─────────────────┼───────┼─────────────────┼───────────────────┼────────────────────┼──────────────────┼─────────────────────┼──────────┼──────────────────────────────────────────────────────┤\n",
      "│ Vref1m          │ 2     │             837 │          851.078  │          0.831943  │         1.03743  │                     │ OK       │ Vref from ETROC B1 (B2)                              │\n",
      "│ Vref2m          │ 6     │             838 │          852.094  │          0.832936  │         1.03867  │                     │ OK       │ Vref from ETROC B2 (C1)                              │\n",
      "│ Vref3m          │ 4     │             837 │          851.078  │          0.831943  │         1.03743  │                     │ OK       │ Vref from ETROC B3 (C3)                              │\n",
      "│ Vref4m          │ 0     │             837 │          850.062  │          0.830951  │         1.0362   │                     │ OK       │ Vref from ETROC B4 (A2)                              │\n",
      "│ VTEMP1          │ 3     │             808 │          820.609  │          0.80216   │         0.80216  │                     │ OK       │ VTEMP from ETROC B1 (B1)                             │\n",
      "│ VTEMP2          │ 7     │             808 │          821.625  │          0.803152  │         0.803152 │                     │ OK       │ VTEMP from ETROC B2 (D1)                             │\n",
      "│ VTEMP3          │ 5     │             809 │          822.641  │          0.804145  │         0.804145 │                     │ OK       │ VTEMP from ETROC B3 (C2)                             │\n",
      "│ VTEMP4          │ 1     │             806 │          820.609  │          0.80216   │         0.80216  │                     │ OK       │ VTEMP from ETROC B4 (A1)                             │\n",
      "│ V1V2HM1_current │ 0-1   │              31 │           31.4844 │          0.0307765 │                  │            0.462786 │ OK       │ 1.2V supply current measurement CH1-CH2 differential │\n",
      "│ V1V2HM2_current │ 2-3   │              29 │           29.4531 │          0.0287909 │                  │            0.432929 │ OK       │ 1.2V supply current measurement CH3-CH4 differential │\n",
      "│ V1V2HM3_current │ 6-7   │              30 │           30.4688 │          0.0297837 │                  │            0.447858 │ OK       │ 1.2V supply current measurement CH5-CH6 differential │\n",
      "│ V1V2HM4_current │ 4-5   │              28 │           28.4375 │          0.0277981 │                  │            0.418001 │ OK       │ 1.2V supply current measurement CH7-CH8 differential │\n",
      "└─────────────────┴───────┴─────────────────┴───────────────────┴────────────────────┴──────────────────┴─────────────────────┴──────────┴──────────────────────────────────────────────────────┘\n"
     ]
    }
   ],
   "source": [
    "\n",
    "rb.TRIG_LPGBT.calibrate_adc()\n",
    "# rb.TRIG_LPGBT.apply_adc_calibration = lambda val : val\n",
    "# rb.DAQ_LPGBT.read_adcs(check=True, strict_limits=True) #\n",
    "rb.TRIG_LPGBT.read_adcs(check = True, strict_limits=False)\n",
    "# rb.connect_modules(verbose = True)"
   ]
  }
 ],
 "metadata": {
  "kernelspec": {
   "display_name": "Python 3",
   "language": "python",
   "name": "python3"
  },
  "language_info": {
   "codemirror_mode": {
    "name": "ipython",
    "version": 3
   },
   "file_extension": ".py",
   "mimetype": "text/x-python",
   "name": "python",
   "nbconvert_exporter": "python",
   "pygments_lexer": "ipython3",
   "version": "3.8.10"
  }
 },
 "nbformat": 4,
 "nbformat_minor": 5
}
