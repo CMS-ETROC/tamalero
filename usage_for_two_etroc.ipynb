{
 "cells": [
  {
   "cell_type": "code",
   "execution_count": null,
   "id": "f729ddbf",
   "metadata": {},
   "outputs": [],
   "source": [
    "from tamalero.utils import get_kcu\n",
    "\n",
    "kcu_ip = \"192.168.0.10\" ## If your KCU ip is diff, modify it.\n",
    "\n",
    "kcu = get_kcu(\n",
    "    kcu_ip,\n",
    "    control_hub=True,\n",
    "    host='localhost',\n",
    "    verbose=False\n",
    ")\n",
    "print(\"Successfully connected to KCU.\")\n",
    "\n",
    "# Check the KCU's status and firmware\n",
    "#kcu.status() # Prints LpGBT link statuses from KCU \n",
    "fw_ver = kcu.get_firmware_version(verbose=True) #\n",
    "kcu.check_clock_frequencies(verbose=True) # Verifies KCU clock stability\n",
    "\n",
    "# Perform a simple loopback register test to confirm communication\n",
    "loopback_val = 0xABCD1234\n",
    "kcu.write_node(\"LOOPBACK.LOOPBACK\", loopback_val) #\n",
    "read_val = kcu.read_node(\"LOOPBACK.LOOPBACK\").value()\n",
    "if read_val == loopback_val:\n",
    "    print(f\"KCU Loopback test PASSED: Wrote 0x{loopback_val:X}, Read 0x{read_val:X}\")\n",
    "else:\n",
    "    print(f\"KCU Loopback test FAILED: Wrote 0x{loopback_val:X}, Read 0x{read_val:X}\")"
   ]
  }
 ],
 "metadata": {
  "kernelspec": {
   "display_name": "Python 3",
   "language": "python",
   "name": "python3"
  },
  "language_info": {
   "name": "python",
   "version": "3.8.10"
  }
 },
 "nbformat": 4,
 "nbformat_minor": 5
}
